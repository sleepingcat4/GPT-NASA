{
  "nbformat": 4,
  "nbformat_minor": 0,
  "metadata": {
    "colab": {
      "provenance": []
    },
    "kernelspec": {
      "name": "python3",
      "display_name": "Python 3"
    },
    "language_info": {
      "name": "python"
    },
    "accelerator": "GPU"
  },
  "cells": [
    {
      "cell_type": "code",
      "source": [
        "!pip install -q aitextgen"
      ],
      "metadata": {
        "id": "D_hwZ0r82VVF"
      },
      "execution_count": null,
      "outputs": []
    },
    {
      "cell_type": "code",
      "execution_count": 2,
      "metadata": {
        "id": "mBVuLf-gZ2Sh"
      },
      "outputs": [],
      "source": [
        "import logging\n",
        "logging.basicConfig(\n",
        "        format=\"%(asctime)s — %(levelname)s — %(name)s — %(message)s\",\n",
        "        datefmt=\"%m/%d/%Y %H:%M:%S\",\n",
        "        level=logging.INFO\n",
        "    )\n",
        "\n",
        "from aitextgen import aitextgen\n",
        "from aitextgen.colab import mount_gdrive, copy_file_from_gdrive"
      ]
    },
    {
      "cell_type": "code",
      "metadata": {
        "id": "sUmTooTW3osf"
      },
      "source": [
        "!nvidia-smi"
      ],
      "execution_count": null,
      "outputs": []
    },
    {
      "cell_type": "code",
      "source": [
        "ai = aitextgen(tf_gpt2=\"124M\", to_gpu=True)\n",
        "\n",
        "# Comment out the above line and uncomment the below line to use GPT Neo instead.\n",
        "# ai = aitextgen(model=\"EleutherAI/gpt-neo-125M\", to_gpu=True)"
      ],
      "metadata": {
        "id": "_QSmTcBb3GtQ"
      },
      "execution_count": null,
      "outputs": []
    },
    {
      "cell_type": "code",
      "source": [
        "mount_gdrive()"
      ],
      "metadata": {
        "id": "7C1qxNkt3RBM"
      },
      "execution_count": null,
      "outputs": []
    },
    {
      "cell_type": "code",
      "source": [
        "# file_name = \"/content/drive/MyDrive/ntrs-public-metadata.json.gz\"\n",
        "file_name = \"/content/drive/MyDrive/data.json\""
      ],
      "metadata": {
        "id": "hkT7SZFH3Rxu"
      },
      "execution_count": 9,
      "outputs": []
    },
    {
      "cell_type": "code",
      "source": [
        "copy_file_from_gdrive(file_name)"
      ],
      "metadata": {
        "id": "XyKTD7nG3nQJ"
      },
      "execution_count": null,
      "outputs": []
    },
    {
      "cell_type": "markdown",
      "source": [
        "Fine-tuning GPT-2"
      ],
      "metadata": {
        "id": "mKfL8Fm-3vJR"
      }
    },
    {
      "cell_type": "code",
      "source": [
        "ai.train(file_name,\n",
        "         line_by_line=False,\n",
        "         from_cache=False,\n",
        "         num_steps=3000,\n",
        "         generate_every=1000,\n",
        "         save_every=1000,\n",
        "         save_gdrive=False,\n",
        "         learning_rate=1e-3,\n",
        "         fp16=False,\n",
        "         \n",
        "         batch_size=1, \n",
        "         )"
      ],
      "metadata": {
        "id": "PIGuWb4S3rKm"
      },
      "execution_count": null,
      "outputs": []
    },
    {
      "cell_type": "code",
      "source": [
        "from_folder = None\n",
        "\n",
        "for file in [\"pytorch_model.bin\", \"config.json\"]:\n",
        "  if from_folder:\n",
        "    copy_file_from_gdrive(file, from_folder)\n",
        "  else:\n",
        "    copy_file_from_gdrive(file)"
      ],
      "metadata": {
        "id": "IXkJZDE433KM"
      },
      "execution_count": null,
      "outputs": []
    },
    {
      "cell_type": "code",
      "source": [
        "ai = aitextgen(model_folder=\".\", to_gpu=True)"
      ],
      "metadata": {
        "id": "J1LXYn_1335B"
      },
      "execution_count": null,
      "outputs": []
    },
    {
      "cell_type": "code",
      "source": [
        "ai = aitextgen(model_folder=\"trained_model\", to_gpu=True)"
      ],
      "metadata": {
        "id": "lJogbruG38gL"
      },
      "execution_count": null,
      "outputs": []
    },
    {
      "cell_type": "code",
      "source": [
        "ai.generate()"
      ],
      "metadata": {
        "id": "C1d1VNzH4EMX"
      },
      "execution_count": null,
      "outputs": []
    }
  ]
}